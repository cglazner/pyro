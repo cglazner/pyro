{
 "cells": [
  {
   "cell_type": "markdown",
   "metadata": {},
   "source": [
    "# Bayesian hierarchical modeling using HMC/NUTS\n",
    "This tutorial presents a Pyro version of models from an [article](http://mc-stan.org/users/documentation/case-studies/pool-binary-trials.html) by Bob Carpenter on Bayesian hierarchical modeling using Stan [1]. Refer to that article for details on the models under consideration. Here we will demonstrate Pyro's capabilities for Hamiltonian Monte Carlo (HMC) inference. HMC in Pyro is still under development, and many of the tools provided by Stan, such as convergence diagnostics, are not available. This [Github issue](https://github.com/uber/pyro/issues/1093) tracks the status of HMC features and development.\n",
    "\n",
    "## Background\n",
    "\n",
    "### HMC\n",
    "\n",
    "HMC is a Markov chain Monte Carlo (MCMC) algorithm. MCMC methods generate samples from complex probability distributions (such as posteriors of model latent variables) by evolving a Markov chain forward according to a specific transition rule. Under the right conditions, the marginal distribution of a sample from the chain will converge to the target distribution.\n",
    "\n",
    "The choice of transition algorithm determines how efficiently the Markov chain explores the state space. HMC performs well on a variety of problems with minimal tuning [2]. It evolves the chain using ideas from the theory of Hamiltonian mechanics in physics. The state space of variables is augmented with a momentum vector, and the negative log of the target distribution is treated as the potential energy of the system. New points are proposed by evolving a discrete time simulation of the system under conservation of the total potential and kinetic energy. The momentum is randomly sampled at each step, allowing exploration of trajectories at different energy levels. \n",
    "\n",
    "An analogy given in [2] is that the state is like a hockey puck sliding on ice of varying height. \n",
    "We give the puck a kick in a random direction, stop it somewhere along its path, and record that position as the next sample. The potential function keeps the puck from wandering off into areas of very low probability, which can be a problem for random walks in high dimensional spaces.\n",
    "\n",
    "The No-U-Turn Sampler (NUTS) [3] is an extension of HMC that automatically determines how far to let the puck slide and what step size to use in simulating the trajectory. This makes it suitable for use in black box inference Pyro.\n",
    "\n",
    "You can view a nice visualization of NUTS, HMC, and other MCMC methods [here](https://chi-feng.github.io/mcmc-demo/app.html#EfficientNUTS,banana) [4].\n",
    "\n",
    "### Bayesian hierarchical models\n",
    "Hierarchical models estimate posteriors of latent variables in nested hierarchies of sub-models. The posterior of a sub-model latent variable is determined by both the sub-model data and the population variables in the hierarchy above it, which are in turn determined by priors and data from other sub-models. In this sense, information is said to be partially pooled across sub-models.\n",
    "\n",
    "We will use the baseball example data from [5], displayed in \"Data\" below.  Baseball players have at-bats which are opportunities to get hits. We have data on the first 45 at-bats of the season, and we would like to predict how each player will do for the rest of the season. \n",
    "\n",
    "The hits $h_i$ for player $i$ are modeled as having a binomial distribution with success probability $\\phi_i$ and $K_i$ trials. \n",
    "Would could assume that every player has the same $\\phi_i$, but this ignores differences among the players and won't produce useful predictions. \n",
    "Alternatively, we could treat each player independently and use his batting average in the training set as a prediction of the rest of the season, but this would overfit to chance variations in the small sample. Partially pooling lies somewhere in between these approaches, combining a player's personal data and data from the population of other players to make his individual prediction. \n",
    "\n",
    "All of the models above can be expressed as Bayesian models, where we provide prior distributions for latent variables and likelihoods for data given latent variables. The goal of inference is to estimate the posterior distributions of the latent variables given the priors and data.\n"
   ]
  },
  {
   "cell_type": "markdown",
   "metadata": {},
   "source": [
    "## Setup\n",
    "Import modules and set configuration variables."
   ]
  },
  {
   "cell_type": "code",
   "execution_count": 1,
   "metadata": {},
   "outputs": [],
   "source": [
    "from __future__ import absolute_import, division, print_function\n",
    "\n",
    "import argparse\n",
    "import logging\n",
    "import math\n",
    "import os\n",
    "from IPython.display import display, Markdown\n",
    "import warnings\n",
    "warnings.simplefilter('ignore')\n",
    "\n",
    "import numpy as np\n",
    "import pandas as pd\n",
    "import torch\n",
    "import matplotlib.pyplot as plt\n",
    "import seaborn as sns\n",
    "\n",
    "import pyro\n",
    "import pyro.poutine as poutine\n",
    "from pyro.distributions import Beta, Binomial, HalfCauchy, Normal, Pareto, Uniform\n",
    "from pyro.distributions.util import logsumexp\n",
    "from pyro.infer import EmpiricalMarginal\n",
    "from pyro.infer.abstract_infer import TracePredictive\n",
    "from pyro.infer.mcmc import MCMC, NUTS\n",
    "\n",
    "\n",
    "pyro.enable_validation(True)\n",
    "DATA_URL = \"https://d2fefpcigoriu7.cloudfront.net/datasets/EfronMorrisBB.txt\"\n",
    "pyro.set_rng_seed(1)\n",
    "\n",
    "smoke_test = 'CI' in os.environ \n",
    "num_samples = 2 if smoke_test else 200\n",
    "num_chains = 4\n",
    "warmup_steps = 1 if smoke_test else 100"
   ]
  },
  {
   "cell_type": "markdown",
   "metadata": {},
   "source": [
    "## Data\n",
    "Ingest and take a look at the data. The data from the first 45 at-bats are provided in separate columns. We will use these at-bats as the training set and test on the remaining part of the season. In our model, the at-bats are fixed and the hits data are random."
   ]
  },
  {
   "cell_type": "code",
   "execution_count": 2,
   "metadata": {},
   "outputs": [
    {
     "data": {
      "text/html": [
       "<div>\n",
       "<style scoped>\n",
       "    .dataframe tbody tr th:only-of-type {\n",
       "        vertical-align: middle;\n",
       "    }\n",
       "\n",
       "    .dataframe tbody tr th {\n",
       "        vertical-align: top;\n",
       "    }\n",
       "\n",
       "    .dataframe thead th {\n",
       "        text-align: right;\n",
       "    }\n",
       "</style>\n",
       "<table border=\"1\" class=\"dataframe\">\n",
       "  <thead>\n",
       "    <tr style=\"text-align: right;\">\n",
       "      <th></th>\n",
       "      <th>FirstName</th>\n",
       "      <th>LastName</th>\n",
       "      <th>At-Bats</th>\n",
       "      <th>Hits</th>\n",
       "      <th>BattingAverage</th>\n",
       "      <th>RemainingAt-Bats</th>\n",
       "      <th>RemainingAverage</th>\n",
       "      <th>RemainingHits</th>\n",
       "    </tr>\n",
       "  </thead>\n",
       "  <tbody>\n",
       "    <tr>\n",
       "      <th>0</th>\n",
       "      <td>Roberto</td>\n",
       "      <td>Clemente</td>\n",
       "      <td>45</td>\n",
       "      <td>18</td>\n",
       "      <td>0.400</td>\n",
       "      <td>367</td>\n",
       "      <td>0.3460</td>\n",
       "      <td>127</td>\n",
       "    </tr>\n",
       "    <tr>\n",
       "      <th>1</th>\n",
       "      <td>Frank</td>\n",
       "      <td>Robinson</td>\n",
       "      <td>45</td>\n",
       "      <td>17</td>\n",
       "      <td>0.378</td>\n",
       "      <td>426</td>\n",
       "      <td>0.2981</td>\n",
       "      <td>127</td>\n",
       "    </tr>\n",
       "    <tr>\n",
       "      <th>2</th>\n",
       "      <td>Frank</td>\n",
       "      <td>Howard</td>\n",
       "      <td>45</td>\n",
       "      <td>16</td>\n",
       "      <td>0.356</td>\n",
       "      <td>521</td>\n",
       "      <td>0.2764</td>\n",
       "      <td>144</td>\n",
       "    </tr>\n",
       "    <tr>\n",
       "      <th>3</th>\n",
       "      <td>Jay</td>\n",
       "      <td>Johnstone</td>\n",
       "      <td>45</td>\n",
       "      <td>15</td>\n",
       "      <td>0.333</td>\n",
       "      <td>275</td>\n",
       "      <td>0.2218</td>\n",
       "      <td>61</td>\n",
       "    </tr>\n",
       "    <tr>\n",
       "      <th>4</th>\n",
       "      <td>Ken</td>\n",
       "      <td>Berry</td>\n",
       "      <td>45</td>\n",
       "      <td>14</td>\n",
       "      <td>0.311</td>\n",
       "      <td>418</td>\n",
       "      <td>0.2727</td>\n",
       "      <td>114</td>\n",
       "    </tr>\n",
       "    <tr>\n",
       "      <th>5</th>\n",
       "      <td>Jim</td>\n",
       "      <td>Spencer</td>\n",
       "      <td>45</td>\n",
       "      <td>14</td>\n",
       "      <td>0.311</td>\n",
       "      <td>466</td>\n",
       "      <td>0.2704</td>\n",
       "      <td>126</td>\n",
       "    </tr>\n",
       "    <tr>\n",
       "      <th>6</th>\n",
       "      <td>Don</td>\n",
       "      <td>Kessinger</td>\n",
       "      <td>45</td>\n",
       "      <td>13</td>\n",
       "      <td>0.289</td>\n",
       "      <td>586</td>\n",
       "      <td>0.2645</td>\n",
       "      <td>155</td>\n",
       "    </tr>\n",
       "    <tr>\n",
       "      <th>7</th>\n",
       "      <td>Luis</td>\n",
       "      <td>Alvarado</td>\n",
       "      <td>45</td>\n",
       "      <td>12</td>\n",
       "      <td>0.267</td>\n",
       "      <td>138</td>\n",
       "      <td>0.2101</td>\n",
       "      <td>29</td>\n",
       "    </tr>\n",
       "    <tr>\n",
       "      <th>8</th>\n",
       "      <td>Ron</td>\n",
       "      <td>Santo</td>\n",
       "      <td>45</td>\n",
       "      <td>11</td>\n",
       "      <td>0.244</td>\n",
       "      <td>510</td>\n",
       "      <td>0.2686</td>\n",
       "      <td>137</td>\n",
       "    </tr>\n",
       "    <tr>\n",
       "      <th>9</th>\n",
       "      <td>Ron</td>\n",
       "      <td>Swaboda</td>\n",
       "      <td>45</td>\n",
       "      <td>11</td>\n",
       "      <td>0.244</td>\n",
       "      <td>200</td>\n",
       "      <td>0.2300</td>\n",
       "      <td>46</td>\n",
       "    </tr>\n",
       "    <tr>\n",
       "      <th>10</th>\n",
       "      <td>Rico</td>\n",
       "      <td>Petrocelli</td>\n",
       "      <td>45</td>\n",
       "      <td>10</td>\n",
       "      <td>0.222</td>\n",
       "      <td>538</td>\n",
       "      <td>0.2639</td>\n",
       "      <td>142</td>\n",
       "    </tr>\n",
       "    <tr>\n",
       "      <th>11</th>\n",
       "      <td>Ellie</td>\n",
       "      <td>Rodriguez</td>\n",
       "      <td>45</td>\n",
       "      <td>10</td>\n",
       "      <td>0.222</td>\n",
       "      <td>186</td>\n",
       "      <td>0.2258</td>\n",
       "      <td>42</td>\n",
       "    </tr>\n",
       "    <tr>\n",
       "      <th>12</th>\n",
       "      <td>George</td>\n",
       "      <td>Scott</td>\n",
       "      <td>45</td>\n",
       "      <td>10</td>\n",
       "      <td>0.222</td>\n",
       "      <td>435</td>\n",
       "      <td>0.3034</td>\n",
       "      <td>132</td>\n",
       "    </tr>\n",
       "    <tr>\n",
       "      <th>13</th>\n",
       "      <td>Del</td>\n",
       "      <td>Unser</td>\n",
       "      <td>45</td>\n",
       "      <td>10</td>\n",
       "      <td>0.222</td>\n",
       "      <td>277</td>\n",
       "      <td>0.2635</td>\n",
       "      <td>73</td>\n",
       "    </tr>\n",
       "    <tr>\n",
       "      <th>14</th>\n",
       "      <td>Billy</td>\n",
       "      <td>Williams</td>\n",
       "      <td>45</td>\n",
       "      <td>10</td>\n",
       "      <td>0.222</td>\n",
       "      <td>591</td>\n",
       "      <td>0.3299</td>\n",
       "      <td>195</td>\n",
       "    </tr>\n",
       "    <tr>\n",
       "      <th>15</th>\n",
       "      <td>Bert</td>\n",
       "      <td>Campaneris</td>\n",
       "      <td>45</td>\n",
       "      <td>9</td>\n",
       "      <td>0.200</td>\n",
       "      <td>558</td>\n",
       "      <td>0.2849</td>\n",
       "      <td>159</td>\n",
       "    </tr>\n",
       "    <tr>\n",
       "      <th>16</th>\n",
       "      <td>Thurman</td>\n",
       "      <td>Munson</td>\n",
       "      <td>45</td>\n",
       "      <td>8</td>\n",
       "      <td>0.178</td>\n",
       "      <td>408</td>\n",
       "      <td>0.3162</td>\n",
       "      <td>129</td>\n",
       "    </tr>\n",
       "    <tr>\n",
       "      <th>17</th>\n",
       "      <td>Max</td>\n",
       "      <td>Alvis</td>\n",
       "      <td>45</td>\n",
       "      <td>7</td>\n",
       "      <td>0.156</td>\n",
       "      <td>70</td>\n",
       "      <td>0.2000</td>\n",
       "      <td>14</td>\n",
       "    </tr>\n",
       "  </tbody>\n",
       "</table>\n",
       "</div>"
      ],
      "text/plain": [
       "   FirstName    LastName  At-Bats  Hits  BattingAverage  RemainingAt-Bats  \\\n",
       "0    Roberto    Clemente       45    18           0.400               367   \n",
       "1      Frank    Robinson       45    17           0.378               426   \n",
       "2      Frank      Howard       45    16           0.356               521   \n",
       "3        Jay   Johnstone       45    15           0.333               275   \n",
       "4        Ken       Berry       45    14           0.311               418   \n",
       "5        Jim     Spencer       45    14           0.311               466   \n",
       "6        Don   Kessinger       45    13           0.289               586   \n",
       "7       Luis    Alvarado       45    12           0.267               138   \n",
       "8        Ron       Santo       45    11           0.244               510   \n",
       "9        Ron     Swaboda       45    11           0.244               200   \n",
       "10      Rico  Petrocelli       45    10           0.222               538   \n",
       "11     Ellie   Rodriguez       45    10           0.222               186   \n",
       "12    George       Scott       45    10           0.222               435   \n",
       "13       Del       Unser       45    10           0.222               277   \n",
       "14     Billy    Williams       45    10           0.222               591   \n",
       "15      Bert  Campaneris       45     9           0.200               558   \n",
       "16   Thurman      Munson       45     8           0.178               408   \n",
       "17       Max       Alvis       45     7           0.156                70   \n",
       "\n",
       "    RemainingAverage  RemainingHits  \n",
       "0             0.3460            127  \n",
       "1             0.2981            127  \n",
       "2             0.2764            144  \n",
       "3             0.2218             61  \n",
       "4             0.2727            114  \n",
       "5             0.2704            126  \n",
       "6             0.2645            155  \n",
       "7             0.2101             29  \n",
       "8             0.2686            137  \n",
       "9             0.2300             46  \n",
       "10            0.2639            142  \n",
       "11            0.2258             42  \n",
       "12            0.3034            132  \n",
       "13            0.2635             73  \n",
       "14            0.3299            195  \n",
       "15            0.2849            159  \n",
       "16            0.3162            129  \n",
       "17            0.2000             14  "
      ]
     },
     "execution_count": 2,
     "metadata": {},
     "output_type": "execute_result"
    }
   ],
   "source": [
    "def train_test_split(pd_dataframe):\n",
    "    pd_dataframe[\"RemainingHits\"] = pd_dataframe[\"SeasonHits\"] - pd_dataframe[\"Hits\"]\n",
    "    train_data = torch.tensor(pd_dataframe[[\"At-Bats\", \"Hits\"]].values, dtype=torch.float)\n",
    "    test_data = torch.tensor(pd_dataframe[[\"RemainingAt-Bats\", \"RemainingHits\"]].values, dtype=torch.float)\n",
    "    first_name = pd_dataframe[\"FirstName\"].values\n",
    "    last_name = pd_dataframe[\"LastName\"].values\n",
    "    player_names = [\" \".join([first, last]) for first, last in zip(first_name, last_name)]\n",
    "    return train_data, test_data, player_names\n",
    "\n",
    "baseball_dataset = pd.read_csv(DATA_URL, \"\\t\")\n",
    "train, _, player_names = train_test_split(baseball_dataset)\n",
    "at_bats, hits = train[:, 0], train[:, 1]\n",
    "baseball_dataset[[col for col in baseball_dataset if not col.startswith(\"Season\")]]"
   ]
  },
  {
   "cell_type": "markdown",
   "metadata": {},
   "source": [
    "## Models\n",
    "### Fully pooled\n",
    "One possible approach is to assume a common probability $\\phi$ of a hit for every at-bat, regardless of player.\n",
    "\n",
    "\\begin{align*} \\phi &\\sim&\\ \\textrm{Unif}(0, 1) \\\\\n",
    "h_i &\\sim&\\ \\textrm{Binom}(\\phi, K_i)\\end{align*}"
   ]
  },
  {
   "cell_type": "code",
   "execution_count": 3,
   "metadata": {},
   "outputs": [],
   "source": [
    "def fully_pooled(at_bats, hits=None):\n",
    "    phi_prior = Uniform(at_bats.new_tensor(0), at_bats.new_tensor(1))\n",
    "    phi = pyro.sample(\"phi\", phi_prior)\n",
    "    return pyro.sample(\"hits\", Binomial(at_bats, phi), obs=hits)"
   ]
  },
  {
   "cell_type": "markdown",
   "metadata": {},
   "source": [
    "### Not pooled\n",
    "We could also assume independent uniform priors for each $\\phi_i$, so each player sub-model is completely separate.\n",
    "\n",
    "\\begin{align*}\\phi_i &\\sim&\\ \\textrm{Unif}(0, 1) \\\\\n",
    "h_i &\\sim&\\ \\textrm{Binom}(\\phi_i, K_i) \\end{align*}\n",
    "\n",
    "Calling the `expand_by` and `independent` methods on the prior distribution creates a separate distribution for each player."
   ]
  },
  {
   "cell_type": "code",
   "execution_count": 4,
   "metadata": {},
   "outputs": [],
   "source": [
    "def not_pooled(at_bats, hits=None):\n",
    "    num_players = at_bats.shape[0]\n",
    "    phi_prior = Uniform(at_bats.new_tensor(0), at_bats.new_tensor(1)).expand_by([num_players]).independent(1)\n",
    "    phi = pyro.sample(\"phi\", phi_prior)\n",
    "    return pyro.sample(\"hits\", Binomial(at_bats, phi), obs=hits)"
   ]
  },
  {
   "cell_type": "markdown",
   "metadata": {},
   "source": [
    "### Partial pooling: beta-binomial\n",
    "Using a hierarchical model, we can specify the player hit probabilities as random draws from a common population distribution. In this case, the $\\phi_i$ have a beta distribution. The two variables in the beta distribution are transformations of a variable $m$, the mean, and $\\kappa$, which roughly controls how concentrated the distribution is around its mode. We give $m$ a uniform prior and $\\kappa$ a Pareto prior with support on $[1, \\infty)$ and fixed parameter 1.5. The complete model is\n",
    "\n",
    "\\begin{align*} m &\\sim&\\ \\textrm{Unif}(0,1) \\\\\n",
    "\\kappa &\\sim&\\ \\textrm{Pareto}(1, 1.5) \\\\\n",
    "\\phi_i &\\sim&\\ \\textrm{Beta}(m\\kappa, (1-m)\\kappa) \\\\\n",
    "h_i &\\sim&\\ \\textrm{Binom}(\\phi_i, K_i)\\end{align*}"
   ]
  },
  {
   "cell_type": "code",
   "execution_count": 5,
   "metadata": {},
   "outputs": [],
   "source": [
    "def partially_pooled(at_bats, hits=None):\n",
    "    num_players = at_bats.shape[0]\n",
    "    m = pyro.sample(\"m\", Uniform(at_bats.new_tensor(0), at_bats.new_tensor(1)))\n",
    "    kappa = pyro.sample(\"kappa\", Pareto(at_bats.new_tensor(1), at_bats.new_tensor(1.5)))\n",
    "    phi_prior = Beta(m * kappa, (1 - m) * kappa).expand_by([num_players]).independent(1)\n",
    "    phi = pyro.sample(\"phi\", phi_prior)\n",
    "    return pyro.sample(\"hits\", Binomial(at_bats, phi), obs=hits)"
   ]
  },
  {
   "cell_type": "markdown",
   "metadata": {},
   "source": [
    "### Partial pooling: log-odds\n",
    "Another hierarchical model places a prior of the log odds of getting a hit. An advantage to doing this is that we can easily add covariates as linear terms on the log odds scale, producing a Bayesian logistic regression. Here the log odds of a hit, $\\alpha_i$, have a normal distribution. The hyperprior on the mean of the normal has mean -1, reflecting prior knowledge that long-term batting averages are less than 0.5. The hyperprior on the standard deviation of the normal has a half-Cauchy distribution.\n",
    "\n",
    "\\begin{align*}\n",
    "\\mu&\\sim&\\ \\textrm{Normal}(-1, 1)\\\\\n",
    "\\sigma &\\sim&\\ \\textrm{HalfCauchy}(1)\\\\\n",
    "\\alpha_i &\\sim&\\ \\textrm{Normal}(\\mu, \\sigma)\\\\\n",
    "\\phi_i &\\sim&\\ (1 + e^{-\\alpha_i})^{-1} \\\\\n",
    "h_i &\\sim& \\ \\textrm{Binom}(\\phi_i, K_i)\n",
    "\\end{align*}"
   ]
  },
  {
   "cell_type": "code",
   "execution_count": 6,
   "metadata": {},
   "outputs": [],
   "source": [
    "def partially_pooled_with_logit(at_bats, hits=None):\n",
    "    num_players = at_bats.shape[0]\n",
    "    loc = pyro.sample(\"loc\", Normal(at_bats.new_tensor(-1), at_bats.new_tensor(1)))\n",
    "    scale = pyro.sample(\"scale\", HalfCauchy(scale=at_bats.new_tensor(1)))\n",
    "    alpha = pyro.sample(\"alpha\", Normal(loc, scale).expand_by([num_players]).independent(1))\n",
    "    return pyro.sample(\"hits\", Binomial(at_bats, logits=alpha), obs=hits)"
   ]
  },
  {
   "cell_type": "markdown",
   "metadata": {},
   "source": [
    "## Model fitting\n",
    "We are now ready to run our MCMC samplers and examine the performance of the four models. We will walk through the fully pooled model step by step while introducing some new Pyro classes.\n",
    "\n",
    "First, we construct and run the `MCMC` object. The first argument to the construction is a NUTS kernel wrapping our model function. We could use an `HMC` kernel instead if we additionally specify a step size and number of steps.\n",
    "\n",
    "`MCMC` is a subclass of `TracePosterior`, so after calling `run` the object will contain an `.exec_traces` variable. The entries in this list are the posterior samples generated at each post-warmup step of the Markov chains. A sample is represented by a `Trace` object which contains a node for each `pyro.sample` call in the model function.\n",
    "\n",
    "Running this cell will take the majority of the total execution time, proportional to the number of samples in the chains."
   ]
  },
  {
   "cell_type": "code",
   "execution_count": 7,
   "metadata": {},
   "outputs": [
    {
     "data": {
      "application/vnd.jupyter.widget-view+json": {
       "model_id": "f9075ea5520b46f387f9a862d4b4a90b",
       "version_major": 2,
       "version_minor": 0
      },
      "text/plain": [
       "HBox(children=(IntProgress(value=0, description=u'Warmup [1]', max=150), HTML(value=u'')))"
      ]
     },
     "metadata": {},
     "output_type": "display_data"
    },
    {
     "data": {
      "application/vnd.jupyter.widget-view+json": {
       "model_id": "418d9f70638d46389e4c43b4a3a5e894",
       "version_major": 2,
       "version_minor": 0
      },
      "text/plain": [
       "HBox(children=(IntProgress(value=0, description=u'Warmup [2]', max=150), HTML(value=u'')))"
      ]
     },
     "metadata": {},
     "output_type": "display_data"
    },
    {
     "data": {
      "application/vnd.jupyter.widget-view+json": {
       "model_id": "ec8ce73968a74c37beb7a47a2f7e1995",
       "version_major": 2,
       "version_minor": 0
      },
      "text/plain": [
       "HBox(children=(IntProgress(value=0, description=u'Warmup [3]', max=150), HTML(value=u'')))"
      ]
     },
     "metadata": {},
     "output_type": "display_data"
    },
    {
     "data": {
      "application/vnd.jupyter.widget-view+json": {
       "model_id": "49b679c10ecf441e96cb3c04b7f5a700",
       "version_major": 2,
       "version_minor": 0
      },
      "text/plain": [
       "HBox(children=(IntProgress(value=0, description=u'Warmup [4]', max=150), HTML(value=u'')))"
      ]
     },
     "metadata": {},
     "output_type": "display_data"
    },
    {
     "name": "stderr",
     "output_type": "stream",
     "text": [
      "\n",
      "\n",
      "\n",
      "\n"
     ]
    }
   ],
   "source": [
    "posterior_fully_pooled = MCMC(NUTS(fully_pooled),\n",
    "                              num_samples=num_samples,\n",
    "                              warmup_steps=warmup_steps,\n",
    "                              num_chains=num_chains) \\\n",
    "    .run(at_bats, hits)"
   ]
  },
  {
   "cell_type": "markdown",
   "metadata": {},
   "source": [
    "Here we define function to examine summary statistics of the empirical marginal distribution of our population hit probability $\\phi$. We pass the `MCMC` object to `EmpiricalMarginal` which constructs the empirical distribution over samples. We don't need to work with this distribution, but we use it to sweep the sampled values into a NumPy array which we can analyze using pandas."
   ]
  },
  {
   "cell_type": "code",
   "execution_count": 8,
   "metadata": {},
   "outputs": [
    {
     "data": {
      "text/html": [
       "<div>\n",
       "<style scoped>\n",
       "    .dataframe tbody tr th:only-of-type {\n",
       "        vertical-align: middle;\n",
       "    }\n",
       "\n",
       "    .dataframe tbody tr th {\n",
       "        vertical-align: top;\n",
       "    }\n",
       "\n",
       "    .dataframe thead th {\n",
       "        text-align: right;\n",
       "    }\n",
       "</style>\n",
       "<table border=\"1\" class=\"dataframe\">\n",
       "  <thead>\n",
       "    <tr style=\"text-align: right;\">\n",
       "      <th></th>\n",
       "      <th>mean</th>\n",
       "      <th>std</th>\n",
       "      <th>25%</th>\n",
       "      <th>50%</th>\n",
       "      <th>75%</th>\n",
       "    </tr>\n",
       "  </thead>\n",
       "  <tbody>\n",
       "    <tr>\n",
       "      <th>0</th>\n",
       "      <td>0.265639</td>\n",
       "      <td>0.014047</td>\n",
       "      <td>0.257125</td>\n",
       "      <td>0.265852</td>\n",
       "      <td>0.275771</td>\n",
       "    </tr>\n",
       "  </tbody>\n",
       "</table>\n",
       "</div>"
      ],
      "text/plain": [
       "       mean       std       25%       50%       75%\n",
       "0  0.265639  0.014047  0.257125  0.265852  0.275771"
      ]
     },
     "execution_count": 8,
     "metadata": {},
     "output_type": "execute_result"
    }
   ],
   "source": [
    "def get_site_stats(array, player_names):\n",
    "    if len(array.shape) == 1:\n",
    "        df = pd.DataFrame(array).transpose()\n",
    "    else:\n",
    "        df = pd.DataFrame(array, columns=player_names).transpose()\n",
    "    return df.apply(pd.Series.describe, axis=1)[[\"mean\", \"std\", \"25%\", \"50%\", \"75%\"]]\n",
    "\n",
    "def summary(traces, sites, player_names, transform=None):\n",
    "    marginal = EmpiricalMarginal(traces, sites).get_samples_and_weights()[0].numpy()\n",
    "    site_stats = {}\n",
    "    for i in range(marginal.shape[1]):\n",
    "        site_name = sites[i]\n",
    "        marginal_site = marginal[:, i]\n",
    "        if transform:\n",
    "            marginal_site = transform(marginal_site)\n",
    "        site_stats[site_name] = get_site_stats(marginal_site, player_names)\n",
    "    return site_stats\n",
    "\n",
    "summary_fully = summary(posterior_fully_pooled, player_names=player_names,\n",
    "                        sites=[\"phi\"])[\"phi\"]\n",
    "summary_fully"
   ]
  },
  {
   "cell_type": "markdown",
   "metadata": {},
   "source": [
    "Now we generate samples from the fitted predictive distribution. The `TracePredictive` object takes a model function and the list of posterior samples. When `run` is called, the model is executed for each posterior sample, with latent variables set to their values in the sample. \n",
    "This produces a realization from the approximated posterior distribution of the observed nodes in the model. \n",
    "Note that we don't pass a `hits` argument to `posterior_predictive` so that this node is allowed to vary randomly during the model execution."
   ]
  },
  {
   "cell_type": "code",
   "execution_count": 9,
   "metadata": {},
   "outputs": [
    {
     "data": {
      "text/markdown": [
       "#### Posterior predictions"
      ],
      "text/plain": [
       "<IPython.core.display.Markdown object>"
      ]
     },
     "metadata": {},
     "output_type": "display_data"
    },
    {
     "data": {
      "text/markdown": [
       "Hit Rate - Initial 45 At Bats"
      ],
      "text/plain": [
       "<IPython.core.display.Markdown object>"
      ]
     },
     "metadata": {},
     "output_type": "display_data"
    },
    {
     "data": {
      "text/html": [
       "<div>\n",
       "<style scoped>\n",
       "    .dataframe tbody tr th:only-of-type {\n",
       "        vertical-align: middle;\n",
       "    }\n",
       "\n",
       "    .dataframe tbody tr th {\n",
       "        vertical-align: top;\n",
       "    }\n",
       "\n",
       "    .dataframe thead th {\n",
       "        text-align: right;\n",
       "    }\n",
       "</style>\n",
       "<table border=\"1\" class=\"dataframe\">\n",
       "  <thead>\n",
       "    <tr style=\"text-align: right;\">\n",
       "      <th></th>\n",
       "      <th>mean</th>\n",
       "      <th>std</th>\n",
       "      <th>25%</th>\n",
       "      <th>50%</th>\n",
       "      <th>75%</th>\n",
       "      <th>ActualHits</th>\n",
       "    </tr>\n",
       "  </thead>\n",
       "  <tbody>\n",
       "    <tr>\n",
       "      <th>Roberto Clemente</th>\n",
       "      <td>11.885</td>\n",
       "      <td>2.879799</td>\n",
       "      <td>10.00</td>\n",
       "      <td>12.0</td>\n",
       "      <td>14.00</td>\n",
       "      <td>18</td>\n",
       "    </tr>\n",
       "    <tr>\n",
       "      <th>Frank Robinson</th>\n",
       "      <td>11.965</td>\n",
       "      <td>3.132545</td>\n",
       "      <td>10.00</td>\n",
       "      <td>12.0</td>\n",
       "      <td>14.00</td>\n",
       "      <td>17</td>\n",
       "    </tr>\n",
       "    <tr>\n",
       "      <th>Frank Howard</th>\n",
       "      <td>12.440</td>\n",
       "      <td>3.036859</td>\n",
       "      <td>10.00</td>\n",
       "      <td>12.5</td>\n",
       "      <td>14.00</td>\n",
       "      <td>16</td>\n",
       "    </tr>\n",
       "    <tr>\n",
       "      <th>Jay Johnstone</th>\n",
       "      <td>11.950</td>\n",
       "      <td>3.206071</td>\n",
       "      <td>10.00</td>\n",
       "      <td>12.0</td>\n",
       "      <td>14.00</td>\n",
       "      <td>15</td>\n",
       "    </tr>\n",
       "    <tr>\n",
       "      <th>Ken Berry</th>\n",
       "      <td>11.980</td>\n",
       "      <td>2.888132</td>\n",
       "      <td>10.00</td>\n",
       "      <td>12.0</td>\n",
       "      <td>14.00</td>\n",
       "      <td>14</td>\n",
       "    </tr>\n",
       "    <tr>\n",
       "      <th>Jim Spencer</th>\n",
       "      <td>11.980</td>\n",
       "      <td>3.101240</td>\n",
       "      <td>10.00</td>\n",
       "      <td>12.0</td>\n",
       "      <td>14.00</td>\n",
       "      <td>14</td>\n",
       "    </tr>\n",
       "    <tr>\n",
       "      <th>Don Kessinger</th>\n",
       "      <td>12.155</td>\n",
       "      <td>3.101463</td>\n",
       "      <td>10.00</td>\n",
       "      <td>12.0</td>\n",
       "      <td>14.00</td>\n",
       "      <td>13</td>\n",
       "    </tr>\n",
       "    <tr>\n",
       "      <th>Luis Alvarado</th>\n",
       "      <td>11.930</td>\n",
       "      <td>3.089144</td>\n",
       "      <td>10.00</td>\n",
       "      <td>11.0</td>\n",
       "      <td>14.00</td>\n",
       "      <td>12</td>\n",
       "    </tr>\n",
       "    <tr>\n",
       "      <th>Ron Santo</th>\n",
       "      <td>11.895</td>\n",
       "      <td>2.729694</td>\n",
       "      <td>10.00</td>\n",
       "      <td>12.0</td>\n",
       "      <td>14.00</td>\n",
       "      <td>11</td>\n",
       "    </tr>\n",
       "    <tr>\n",
       "      <th>Ron Swaboda</th>\n",
       "      <td>12.150</td>\n",
       "      <td>2.980253</td>\n",
       "      <td>10.00</td>\n",
       "      <td>12.0</td>\n",
       "      <td>14.00</td>\n",
       "      <td>11</td>\n",
       "    </tr>\n",
       "    <tr>\n",
       "      <th>Rico Petrocelli</th>\n",
       "      <td>11.960</td>\n",
       "      <td>3.058623</td>\n",
       "      <td>10.00</td>\n",
       "      <td>12.0</td>\n",
       "      <td>14.00</td>\n",
       "      <td>10</td>\n",
       "    </tr>\n",
       "    <tr>\n",
       "      <th>Ellie Rodriguez</th>\n",
       "      <td>11.960</td>\n",
       "      <td>2.913907</td>\n",
       "      <td>10.00</td>\n",
       "      <td>12.0</td>\n",
       "      <td>14.00</td>\n",
       "      <td>10</td>\n",
       "    </tr>\n",
       "    <tr>\n",
       "      <th>George Scott</th>\n",
       "      <td>12.110</td>\n",
       "      <td>3.187270</td>\n",
       "      <td>10.00</td>\n",
       "      <td>12.0</td>\n",
       "      <td>14.25</td>\n",
       "      <td>10</td>\n",
       "    </tr>\n",
       "    <tr>\n",
       "      <th>Del Unser</th>\n",
       "      <td>11.935</td>\n",
       "      <td>3.047493</td>\n",
       "      <td>10.00</td>\n",
       "      <td>12.0</td>\n",
       "      <td>14.00</td>\n",
       "      <td>10</td>\n",
       "    </tr>\n",
       "    <tr>\n",
       "      <th>Billy Williams</th>\n",
       "      <td>12.165</td>\n",
       "      <td>2.817350</td>\n",
       "      <td>10.00</td>\n",
       "      <td>12.0</td>\n",
       "      <td>14.00</td>\n",
       "      <td>10</td>\n",
       "    </tr>\n",
       "    <tr>\n",
       "      <th>Bert Campaneris</th>\n",
       "      <td>11.650</td>\n",
       "      <td>3.028757</td>\n",
       "      <td>9.00</td>\n",
       "      <td>12.0</td>\n",
       "      <td>14.00</td>\n",
       "      <td>9</td>\n",
       "    </tr>\n",
       "    <tr>\n",
       "      <th>Thurman Munson</th>\n",
       "      <td>11.735</td>\n",
       "      <td>3.143914</td>\n",
       "      <td>9.75</td>\n",
       "      <td>12.0</td>\n",
       "      <td>14.00</td>\n",
       "      <td>8</td>\n",
       "    </tr>\n",
       "    <tr>\n",
       "      <th>Max Alvis</th>\n",
       "      <td>12.045</td>\n",
       "      <td>3.347987</td>\n",
       "      <td>9.75</td>\n",
       "      <td>12.0</td>\n",
       "      <td>14.00</td>\n",
       "      <td>7</td>\n",
       "    </tr>\n",
       "  </tbody>\n",
       "</table>\n",
       "</div>"
      ],
      "text/plain": [
       "                    mean       std    25%   50%    75%  ActualHits\n",
       "Roberto Clemente  11.885  2.879799  10.00  12.0  14.00          18\n",
       "Frank Robinson    11.965  3.132545  10.00  12.0  14.00          17\n",
       "Frank Howard      12.440  3.036859  10.00  12.5  14.00          16\n",
       "Jay Johnstone     11.950  3.206071  10.00  12.0  14.00          15\n",
       "Ken Berry         11.980  2.888132  10.00  12.0  14.00          14\n",
       "Jim Spencer       11.980  3.101240  10.00  12.0  14.00          14\n",
       "Don Kessinger     12.155  3.101463  10.00  12.0  14.00          13\n",
       "Luis Alvarado     11.930  3.089144  10.00  11.0  14.00          12\n",
       "Ron Santo         11.895  2.729694  10.00  12.0  14.00          11\n",
       "Ron Swaboda       12.150  2.980253  10.00  12.0  14.00          11\n",
       "Rico Petrocelli   11.960  3.058623  10.00  12.0  14.00          10\n",
       "Ellie Rodriguez   11.960  2.913907  10.00  12.0  14.00          10\n",
       "George Scott      12.110  3.187270  10.00  12.0  14.25          10\n",
       "Del Unser         11.935  3.047493  10.00  12.0  14.00          10\n",
       "Billy Williams    12.165  2.817350  10.00  12.0  14.00          10\n",
       "Bert Campaneris   11.650  3.028757   9.00  12.0  14.00           9\n",
       "Thurman Munson    11.735  3.143914   9.75  12.0  14.00           8\n",
       "Max Alvis         12.045  3.347987   9.75  12.0  14.00           7"
      ]
     },
     "metadata": {},
     "output_type": "display_data"
    },
    {
     "data": {
      "text/markdown": [
       "Hit Rate - Season Predictions"
      ],
      "text/plain": [
       "<IPython.core.display.Markdown object>"
      ]
     },
     "metadata": {},
     "output_type": "display_data"
    },
    {
     "data": {
      "text/html": [
       "<div>\n",
       "<style scoped>\n",
       "    .dataframe tbody tr th:only-of-type {\n",
       "        vertical-align: middle;\n",
       "    }\n",
       "\n",
       "    .dataframe tbody tr th {\n",
       "        vertical-align: top;\n",
       "    }\n",
       "\n",
       "    .dataframe thead th {\n",
       "        text-align: right;\n",
       "    }\n",
       "</style>\n",
       "<table border=\"1\" class=\"dataframe\">\n",
       "  <thead>\n",
       "    <tr style=\"text-align: right;\">\n",
       "      <th></th>\n",
       "      <th>mean</th>\n",
       "      <th>std</th>\n",
       "      <th>25%</th>\n",
       "      <th>50%</th>\n",
       "      <th>75%</th>\n",
       "      <th>ActualHits</th>\n",
       "    </tr>\n",
       "  </thead>\n",
       "  <tbody>\n",
       "    <tr>\n",
       "      <th>Roberto Clemente</th>\n",
       "      <td>98.169998</td>\n",
       "      <td>9.451867</td>\n",
       "      <td>92.00</td>\n",
       "      <td>98.5</td>\n",
       "      <td>105.00</td>\n",
       "      <td>127</td>\n",
       "    </tr>\n",
       "    <tr>\n",
       "      <th>Frank Robinson</th>\n",
       "      <td>114.014999</td>\n",
       "      <td>11.735990</td>\n",
       "      <td>106.00</td>\n",
       "      <td>114.0</td>\n",
       "      <td>122.00</td>\n",
       "      <td>127</td>\n",
       "    </tr>\n",
       "    <tr>\n",
       "      <th>Frank Howard</th>\n",
       "      <td>140.009995</td>\n",
       "      <td>12.471874</td>\n",
       "      <td>130.00</td>\n",
       "      <td>140.0</td>\n",
       "      <td>148.25</td>\n",
       "      <td>144</td>\n",
       "    </tr>\n",
       "    <tr>\n",
       "      <th>Jay Johnstone</th>\n",
       "      <td>73.184998</td>\n",
       "      <td>8.440199</td>\n",
       "      <td>67.00</td>\n",
       "      <td>73.0</td>\n",
       "      <td>78.25</td>\n",
       "      <td>61</td>\n",
       "    </tr>\n",
       "    <tr>\n",
       "      <th>Ken Berry</th>\n",
       "      <td>112.925003</td>\n",
       "      <td>10.731037</td>\n",
       "      <td>107.00</td>\n",
       "      <td>113.0</td>\n",
       "      <td>120.00</td>\n",
       "      <td>114</td>\n",
       "    </tr>\n",
       "    <tr>\n",
       "      <th>Jim Spencer</th>\n",
       "      <td>125.029999</td>\n",
       "      <td>11.309670</td>\n",
       "      <td>118.00</td>\n",
       "      <td>125.0</td>\n",
       "      <td>132.00</td>\n",
       "      <td>126</td>\n",
       "    </tr>\n",
       "    <tr>\n",
       "      <th>Don Kessinger</th>\n",
       "      <td>156.494995</td>\n",
       "      <td>12.823894</td>\n",
       "      <td>147.00</td>\n",
       "      <td>155.5</td>\n",
       "      <td>165.25</td>\n",
       "      <td>155</td>\n",
       "    </tr>\n",
       "    <tr>\n",
       "      <th>Luis Alvarado</th>\n",
       "      <td>37.240002</td>\n",
       "      <td>5.605310</td>\n",
       "      <td>33.00</td>\n",
       "      <td>37.0</td>\n",
       "      <td>41.00</td>\n",
       "      <td>29</td>\n",
       "    </tr>\n",
       "    <tr>\n",
       "      <th>Ron Santo</th>\n",
       "      <td>135.039993</td>\n",
       "      <td>12.172480</td>\n",
       "      <td>126.00</td>\n",
       "      <td>136.0</td>\n",
       "      <td>143.00</td>\n",
       "      <td>137</td>\n",
       "    </tr>\n",
       "    <tr>\n",
       "      <th>Ron Swaboda</th>\n",
       "      <td>53.430000</td>\n",
       "      <td>6.707462</td>\n",
       "      <td>49.00</td>\n",
       "      <td>54.0</td>\n",
       "      <td>58.00</td>\n",
       "      <td>46</td>\n",
       "    </tr>\n",
       "    <tr>\n",
       "      <th>Rico Petrocelli</th>\n",
       "      <td>143.410004</td>\n",
       "      <td>12.079798</td>\n",
       "      <td>137.00</td>\n",
       "      <td>142.5</td>\n",
       "      <td>151.00</td>\n",
       "      <td>142</td>\n",
       "    </tr>\n",
       "    <tr>\n",
       "      <th>Ellie Rodriguez</th>\n",
       "      <td>49.480000</td>\n",
       "      <td>6.730983</td>\n",
       "      <td>45.00</td>\n",
       "      <td>49.5</td>\n",
       "      <td>54.00</td>\n",
       "      <td>42</td>\n",
       "    </tr>\n",
       "    <tr>\n",
       "      <th>George Scott</th>\n",
       "      <td>115.959999</td>\n",
       "      <td>10.770721</td>\n",
       "      <td>107.75</td>\n",
       "      <td>115.0</td>\n",
       "      <td>123.00</td>\n",
       "      <td>132</td>\n",
       "    </tr>\n",
       "    <tr>\n",
       "      <th>Del Unser</th>\n",
       "      <td>73.669998</td>\n",
       "      <td>7.799697</td>\n",
       "      <td>69.00</td>\n",
       "      <td>74.0</td>\n",
       "      <td>79.00</td>\n",
       "      <td>73</td>\n",
       "    </tr>\n",
       "    <tr>\n",
       "      <th>Billy Williams</th>\n",
       "      <td>158.785004</td>\n",
       "      <td>13.462727</td>\n",
       "      <td>148.00</td>\n",
       "      <td>159.0</td>\n",
       "      <td>167.00</td>\n",
       "      <td>195</td>\n",
       "    </tr>\n",
       "    <tr>\n",
       "      <th>Bert Campaneris</th>\n",
       "      <td>147.494995</td>\n",
       "      <td>12.944410</td>\n",
       "      <td>138.00</td>\n",
       "      <td>147.0</td>\n",
       "      <td>157.00</td>\n",
       "      <td>159</td>\n",
       "    </tr>\n",
       "    <tr>\n",
       "      <th>Thurman Munson</th>\n",
       "      <td>108.889999</td>\n",
       "      <td>10.425033</td>\n",
       "      <td>102.00</td>\n",
       "      <td>108.0</td>\n",
       "      <td>116.00</td>\n",
       "      <td>129</td>\n",
       "    </tr>\n",
       "    <tr>\n",
       "      <th>Max Alvis</th>\n",
       "      <td>18.190001</td>\n",
       "      <td>3.543541</td>\n",
       "      <td>15.00</td>\n",
       "      <td>18.5</td>\n",
       "      <td>20.00</td>\n",
       "      <td>14</td>\n",
       "    </tr>\n",
       "  </tbody>\n",
       "</table>\n",
       "</div>"
      ],
      "text/plain": [
       "                        mean        std     25%    50%     75%  ActualHits\n",
       "Roberto Clemente   98.169998   9.451867   92.00   98.5  105.00         127\n",
       "Frank Robinson    114.014999  11.735990  106.00  114.0  122.00         127\n",
       "Frank Howard      140.009995  12.471874  130.00  140.0  148.25         144\n",
       "Jay Johnstone      73.184998   8.440199   67.00   73.0   78.25          61\n",
       "Ken Berry         112.925003  10.731037  107.00  113.0  120.00         114\n",
       "Jim Spencer       125.029999  11.309670  118.00  125.0  132.00         126\n",
       "Don Kessinger     156.494995  12.823894  147.00  155.5  165.25         155\n",
       "Luis Alvarado      37.240002   5.605310   33.00   37.0   41.00          29\n",
       "Ron Santo         135.039993  12.172480  126.00  136.0  143.00         137\n",
       "Ron Swaboda        53.430000   6.707462   49.00   54.0   58.00          46\n",
       "Rico Petrocelli   143.410004  12.079798  137.00  142.5  151.00         142\n",
       "Ellie Rodriguez    49.480000   6.730983   45.00   49.5   54.00          42\n",
       "George Scott      115.959999  10.770721  107.75  115.0  123.00         132\n",
       "Del Unser          73.669998   7.799697   69.00   74.0   79.00          73\n",
       "Billy Williams    158.785004  13.462727  148.00  159.0  167.00         195\n",
       "Bert Campaneris   147.494995  12.944410  138.00  147.0  157.00         159\n",
       "Thurman Munson    108.889999  10.425033  102.00  108.0  116.00         129\n",
       "Max Alvis          18.190001   3.543541   15.00   18.5   20.00          14"
      ]
     },
     "metadata": {},
     "output_type": "display_data"
    }
   ],
   "source": [
    "def sample_posterior_predictive(posterior_predictive, baseball_dataset):\n",
    "    train, test, player_names = train_test_split(baseball_dataset)\n",
    "    at_bats = train[:, 0]\n",
    "    at_bats_remaining = test[:, 0]\n",
    "    train_predict = posterior_predictive.run(at_bats)\n",
    "    train_summary = summary(train_predict, sites=[\"hits\"], player_names=player_names)[\"hits\"]\n",
    "    train_summary = train_summary.assign(ActualHits=baseball_dataset[[\"Hits\"]].values)\n",
    "    test_predict = posterior_predictive.run(at_bats_remaining)\n",
    "    test_summary = summary(test_predict, sites=[\"hits\"], player_names=player_names)[\"hits\"]\n",
    "    test_summary = test_summary.assign(ActualHits=baseball_dataset[[\"RemainingHits\"]].values)\n",
    "    return(train_summary, test_summary)\n",
    "\n",
    "    \n",
    "posterior_predictive = TracePredictive(fully_pooled,\n",
    "                                       posterior_fully_pooled,\n",
    "                                       num_samples=num_samples)\n",
    "summaries = sample_posterior_predictive(posterior_predictive, baseball_dataset)\n",
    "display(Markdown(\"#### Posterior predictions\"))\n",
    "display(Markdown(\"Hit Rate - Initial 45 At Bats\"))\n",
    "display(summaries[0])\n",
    "display(Markdown(\"Hit Rate - Season Predictions\"))\n",
    "display(summaries[1])"
   ]
  },
  {
   "cell_type": "markdown",
   "metadata": {},
   "source": [
    "Finally, evaluate the predictive density of the actual hits by each player in the test dataset. This gives us a basis for comparison with other models. \n",
    "\n",
    "We use the `TracePredictive` class again, but here we set `hits` to its value in the test data when calling `run`, rather than letting it vary randomly. We collect the log probability of the data under each posterior sample and average these values to get an estimate of the log posterior predictive density.\n",
    "\n",
    "A higher predictive density indicates a better fit between the data and the posterior predictive distribution."
   ]
  },
  {
   "cell_type": "code",
   "execution_count": 10,
   "metadata": {},
   "outputs": [
    {
     "name": "stdout",
     "output_type": "stream",
     "text": [
      "Log posterior predictive density: -74.5882\n",
      "\n"
     ]
    }
   ],
   "source": [
    "def evaluate_log_predictive_density(model, model_trace_posterior, baseball_dataset):\n",
    "    _, test, player_names = train_test_split(baseball_dataset)\n",
    "    at_bats_remaining, hits_remaining = test[:, 0], test[:, 1]\n",
    "    test_eval = TracePredictive(model,\n",
    "                                model_trace_posterior,\n",
    "                                num_samples=num_samples)\n",
    "    test_eval.run(at_bats_remaining, hits_remaining)\n",
    "    trace_log_pdf = []\n",
    "    for tr in test_eval.exec_traces:\n",
    "        trace_log_pdf.append(tr.log_prob_sum())\n",
    "    posterior_pred_density = logsumexp(torch.stack(trace_log_pdf), dim=-1) - math.log(len(trace_log_pdf))\n",
    "    print(\"Log posterior predictive density: {:.4f}\\n\".format(posterior_pred_density))\n",
    "    \n",
    "    \n",
    "evaluate_log_predictive_density(fully_pooled, posterior_fully_pooled, baseball_dataset)"
   ]
  },
  {
   "cell_type": "markdown",
   "metadata": {},
   "source": [
    "Now we run the other three models."
   ]
  },
  {
   "cell_type": "code",
   "execution_count": 11,
   "metadata": {},
   "outputs": [
    {
     "data": {
      "text/markdown": [
       "### Not pooled"
      ],
      "text/plain": [
       "<IPython.core.display.Markdown object>"
      ]
     },
     "metadata": {},
     "output_type": "display_data"
    },
    {
     "data": {
      "application/vnd.jupyter.widget-view+json": {
       "model_id": "903aceb5c2674febb8440df626b63386",
       "version_major": 2,
       "version_minor": 0
      },
      "text/plain": [
       "HBox(children=(IntProgress(value=0, description=u'Warmup [1]', max=150), HTML(value=u'')))"
      ]
     },
     "metadata": {},
     "output_type": "display_data"
    },
    {
     "data": {
      "application/vnd.jupyter.widget-view+json": {
       "model_id": "af469231ddc24b0990218c35c71e88c6",
       "version_major": 2,
       "version_minor": 0
      },
      "text/plain": [
       "HBox(children=(IntProgress(value=0, description=u'Warmup [2]', max=150), HTML(value=u'')))"
      ]
     },
     "metadata": {},
     "output_type": "display_data"
    },
    {
     "data": {
      "application/vnd.jupyter.widget-view+json": {
       "model_id": "49629e00cd9747d39408d6f73f4dea90",
       "version_major": 2,
       "version_minor": 0
      },
      "text/plain": [
       "HBox(children=(IntProgress(value=0, description=u'Warmup [3]', max=150), HTML(value=u'')))"
      ]
     },
     "metadata": {},
     "output_type": "display_data"
    },
    {
     "data": {
      "application/vnd.jupyter.widget-view+json": {
       "model_id": "3213accc6a06430992d734cb561f60fc",
       "version_major": 2,
       "version_minor": 0
      },
      "text/plain": [
       "HBox(children=(IntProgress(value=0, description=u'Warmup [4]', max=150), HTML(value=u'')))"
      ]
     },
     "metadata": {},
     "output_type": "display_data"
    },
    {
     "name": "stderr",
     "output_type": "stream",
     "text": [
      "\n",
      "\n",
      "\n",
      "\n"
     ]
    },
    {
     "name": "stdout",
     "output_type": "stream",
     "text": [
      "Log posterior predictive density: -126.5072\n",
      "\n"
     ]
    },
    {
     "data": {
      "text/markdown": [
       "### Partially pooled"
      ],
      "text/plain": [
       "<IPython.core.display.Markdown object>"
      ]
     },
     "metadata": {},
     "output_type": "display_data"
    },
    {
     "data": {
      "application/vnd.jupyter.widget-view+json": {
       "model_id": "d9e73d5d4b2a4c7586c2dd3bf9d077c4",
       "version_major": 2,
       "version_minor": 0
      },
      "text/plain": [
       "HBox(children=(IntProgress(value=0, description=u'Warmup [1]', max=150), HTML(value=u'')))"
      ]
     },
     "metadata": {},
     "output_type": "display_data"
    },
    {
     "data": {
      "application/vnd.jupyter.widget-view+json": {
       "model_id": "3c23058d8f3c4cc3aa07598e54534ff0",
       "version_major": 2,
       "version_minor": 0
      },
      "text/plain": [
       "HBox(children=(IntProgress(value=0, description=u'Warmup [2]', max=150), HTML(value=u'')))"
      ]
     },
     "metadata": {},
     "output_type": "display_data"
    },
    {
     "data": {
      "application/vnd.jupyter.widget-view+json": {
       "model_id": "d219b4e888ec408d90465e2617fae8e3",
       "version_major": 2,
       "version_minor": 0
      },
      "text/plain": [
       "HBox(children=(IntProgress(value=0, description=u'Warmup [3]', max=150), HTML(value=u'')))"
      ]
     },
     "metadata": {},
     "output_type": "display_data"
    },
    {
     "data": {
      "application/vnd.jupyter.widget-view+json": {
       "model_id": "1fc651912d4b4de2af033d0b8b1355ef",
       "version_major": 2,
       "version_minor": 0
      },
      "text/plain": [
       "HBox(children=(IntProgress(value=0, description=u'Warmup [4]', max=150), HTML(value=u'')))"
      ]
     },
     "metadata": {},
     "output_type": "display_data"
    },
    {
     "name": "stderr",
     "output_type": "stream",
     "text": [
      "\n",
      "\n",
      "\n",
      "\n"
     ]
    },
    {
     "name": "stdout",
     "output_type": "stream",
     "text": [
      "Log posterior predictive density: -57.4104\n",
      "\n"
     ]
    },
    {
     "data": {
      "text/markdown": [
       "### Partially pooled with logit"
      ],
      "text/plain": [
       "<IPython.core.display.Markdown object>"
      ]
     },
     "metadata": {},
     "output_type": "display_data"
    },
    {
     "data": {
      "application/vnd.jupyter.widget-view+json": {
       "model_id": "cccd8f4154bc486b87cfcc9ff736a195",
       "version_major": 2,
       "version_minor": 0
      },
      "text/plain": [
       "HBox(children=(IntProgress(value=0, description=u'Warmup [1]', max=150), HTML(value=u'')))"
      ]
     },
     "metadata": {},
     "output_type": "display_data"
    },
    {
     "data": {
      "application/vnd.jupyter.widget-view+json": {
       "model_id": "0ba324e18ca74f6094fb9affdf859973",
       "version_major": 2,
       "version_minor": 0
      },
      "text/plain": [
       "HBox(children=(IntProgress(value=0, description=u'Warmup [2]', max=150), HTML(value=u'')))"
      ]
     },
     "metadata": {},
     "output_type": "display_data"
    },
    {
     "data": {
      "application/vnd.jupyter.widget-view+json": {
       "model_id": "c5c40dc821a646c6af60fda18297fa85",
       "version_major": 2,
       "version_minor": 0
      },
      "text/plain": [
       "HBox(children=(IntProgress(value=0, description=u'Warmup [3]', max=150), HTML(value=u'')))"
      ]
     },
     "metadata": {},
     "output_type": "display_data"
    },
    {
     "data": {
      "application/vnd.jupyter.widget-view+json": {
       "model_id": "bd1a67cd05db4bb684f4f4a27705a7c4",
       "version_major": 2,
       "version_minor": 0
      },
      "text/plain": [
       "HBox(children=(IntProgress(value=0, description=u'Warmup [4]', max=150), HTML(value=u'')))"
      ]
     },
     "metadata": {},
     "output_type": "display_data"
    },
    {
     "name": "stderr",
     "output_type": "stream",
     "text": [
      "\n",
      "\n",
      "\n",
      "\n"
     ]
    },
    {
     "name": "stdout",
     "output_type": "stream",
     "text": [
      "Log posterior predictive density: -56.8842\n",
      "\n"
     ]
    }
   ],
   "source": [
    "def run_and_evaluate(model):\n",
    "    posterior = MCMC(NUTS(model),\n",
    "                     num_samples=num_samples,\n",
    "                     warmup_steps=warmup_steps,\n",
    "                     num_chains=num_chains) \\\n",
    "        .run(at_bats, hits)\n",
    "    evaluate_log_predictive_density(model, \n",
    "                                    posterior, \n",
    "                                    baseball_dataset)\n",
    "    return(posterior)\n",
    "\n",
    "    \n",
    "display(Markdown(\"### Not pooled\"))\n",
    "posterior_not_pooled = run_and_evaluate(not_pooled)\n",
    "summary_not = summary(posterior_not_pooled, player_names=player_names,\n",
    "                      sites=[\"phi\"])[\"phi\"]\n",
    "\n",
    "display(Markdown(\"### Partially pooled\"))\n",
    "posterior_partially_pooled = run_and_evaluate(partially_pooled)\n",
    "summary_partially = summary(posterior_partially_pooled, player_names=player_names,\n",
    "                            sites=[\"phi\"])[\"phi\"]\n",
    "\n",
    "display(Markdown(\"### Partially pooled with logit\"))\n",
    "posterior_partially_pooled_with_logit = run_and_evaluate(partially_pooled_with_logit)\n",
    "summary_partially_with_logit = summary(posterior_partially_pooled_with_logit, player_names=player_names,\n",
    "                                       sites=[\"alpha\"], transform=(lambda x: 1. / (1 + np.exp(-x))))[\"alpha\"]\n"
   ]
  },
  {
   "cell_type": "markdown",
   "metadata": {},
   "source": [
    "The partial pooling models have higher predictive density then the fully pooled and not pooled models. In this case, the logit model performs slighty better than the beta-binomial, but this order depends on the choice of random seed.\n",
    "We conclude that partial pooling improves prediction on this dataset.\n",
    "\n",
    "Here are the mean and standard deviation of each model's posterior predictions for the remaining at-bats of the season."
   ]
  },
  {
   "cell_type": "code",
   "execution_count": 12,
   "metadata": {},
   "outputs": [
    {
     "data": {
      "text/html": [
       "<div>\n",
       "<style scoped>\n",
       "    .dataframe tbody tr th:only-of-type {\n",
       "        vertical-align: middle;\n",
       "    }\n",
       "\n",
       "    .dataframe tbody tr th {\n",
       "        vertical-align: top;\n",
       "    }\n",
       "\n",
       "    .dataframe thead th {\n",
       "        text-align: right;\n",
       "    }\n",
       "</style>\n",
       "<table border=\"1\" class=\"dataframe\">\n",
       "  <thead>\n",
       "    <tr style=\"text-align: right;\">\n",
       "      <th></th>\n",
       "      <th>Fully pooled</th>\n",
       "      <th>Not pooled</th>\n",
       "      <th>Partially pooled (beta-binomial)</th>\n",
       "      <th>Partially pooled (logit)</th>\n",
       "    </tr>\n",
       "  </thead>\n",
       "  <tbody>\n",
       "    <tr>\n",
       "      <th>Roberto Clemente</th>\n",
       "      <td>97.67 (9.22)</td>\n",
       "      <td>147.87 (25.42)</td>\n",
       "      <td>116.56 (21.40)</td>\n",
       "      <td>112.56 (18.78)</td>\n",
       "    </tr>\n",
       "    <tr>\n",
       "      <th>Frank Robinson</th>\n",
       "      <td>113.89 (10.23)</td>\n",
       "      <td>162.38 (30.45)</td>\n",
       "      <td>134.56 (24.65)</td>\n",
       "      <td>129.33 (19.90)</td>\n",
       "    </tr>\n",
       "    <tr>\n",
       "      <th>Frank Howard</th>\n",
       "      <td>139.07 (12.45)</td>\n",
       "      <td>190.21 (33.54)</td>\n",
       "      <td>156.81 (27.23)</td>\n",
       "      <td>155.30 (25.53)</td>\n",
       "    </tr>\n",
       "    <tr>\n",
       "      <th>Jay Johnstone</th>\n",
       "      <td>73.44 (8.05)</td>\n",
       "      <td>91.86 (20.03)</td>\n",
       "      <td>80.07 (15.71)</td>\n",
       "      <td>79.96 (13.38)</td>\n",
       "    </tr>\n",
       "    <tr>\n",
       "      <th>Ken Berry</th>\n",
       "      <td>111.93 (10.52)</td>\n",
       "      <td>127.11 (27.59)</td>\n",
       "      <td>120.36 (22.80)</td>\n",
       "      <td>116.29 (18.19)</td>\n",
       "    </tr>\n",
       "    <tr>\n",
       "      <th>Jim Spencer</th>\n",
       "      <td>124.11 (11.28)</td>\n",
       "      <td>143.88 (29.33)</td>\n",
       "      <td>138.43 (26.55)</td>\n",
       "      <td>130.99 (21.80)</td>\n",
       "    </tr>\n",
       "    <tr>\n",
       "      <th>Don Kessinger</th>\n",
       "      <td>157.96 (12.20)</td>\n",
       "      <td>170.71 (42.68)</td>\n",
       "      <td>161.10 (27.43)</td>\n",
       "      <td>157.14 (25.11)</td>\n",
       "    </tr>\n",
       "    <tr>\n",
       "      <th>Luis Alvarado</th>\n",
       "      <td>36.89 (5.58)</td>\n",
       "      <td>38.31 (11.40)</td>\n",
       "      <td>35.79 (8.57)</td>\n",
       "      <td>37.70 (7.21)</td>\n",
       "    </tr>\n",
       "    <tr>\n",
       "      <th>Ron Santo</th>\n",
       "      <td>135.77 (11.51)</td>\n",
       "      <td>128.29 (34.00)</td>\n",
       "      <td>132.90 (24.78)</td>\n",
       "      <td>132.60 (22.46)</td>\n",
       "    </tr>\n",
       "    <tr>\n",
       "      <th>Ron Swaboda</th>\n",
       "      <td>53.14 (6.99)</td>\n",
       "      <td>52.49 (16.30)</td>\n",
       "      <td>52.14 (10.38)</td>\n",
       "      <td>52.33 (9.52)</td>\n",
       "    </tr>\n",
       "    <tr>\n",
       "      <th>Rico Petrocelli</th>\n",
       "      <td>143.34 (12.21)</td>\n",
       "      <td>128.84 (34.25)</td>\n",
       "      <td>134.27 (18.71)</td>\n",
       "      <td>134.24 (20.10)</td>\n",
       "    </tr>\n",
       "    <tr>\n",
       "      <th>Ellie Rodriguez</th>\n",
       "      <td>49.62 (6.37)</td>\n",
       "      <td>44.38 (12.91)</td>\n",
       "      <td>45.69 (8.22)</td>\n",
       "      <td>47.63 (9.32)</td>\n",
       "    </tr>\n",
       "    <tr>\n",
       "      <th>George Scott</th>\n",
       "      <td>115.99 (10.74)</td>\n",
       "      <td>101.72 (27.19)</td>\n",
       "      <td>106.25 (19.25)</td>\n",
       "      <td>110.73 (18.40)</td>\n",
       "    </tr>\n",
       "    <tr>\n",
       "      <th>Del Unser</th>\n",
       "      <td>74.11 (8.40)</td>\n",
       "      <td>63.85 (20.81)</td>\n",
       "      <td>67.97 (13.83)</td>\n",
       "      <td>70.34 (13.35)</td>\n",
       "    </tr>\n",
       "    <tr>\n",
       "      <th>Billy Williams</th>\n",
       "      <td>156.51 (12.88)</td>\n",
       "      <td>138.18 (31.56)</td>\n",
       "      <td>147.75 (33.23)</td>\n",
       "      <td>152.24 (24.20)</td>\n",
       "    </tr>\n",
       "    <tr>\n",
       "      <th>Bert Campaneris</th>\n",
       "      <td>149.57 (12.93)</td>\n",
       "      <td>123.61 (38.11)</td>\n",
       "      <td>127.24 (23.65)</td>\n",
       "      <td>137.95 (23.32)</td>\n",
       "    </tr>\n",
       "    <tr>\n",
       "      <th>Thurman Munson</th>\n",
       "      <td>109.19 (9.95)</td>\n",
       "      <td>80.89 (26.36)</td>\n",
       "      <td>94.61 (15.92)</td>\n",
       "      <td>98.39 (17.36)</td>\n",
       "    </tr>\n",
       "    <tr>\n",
       "      <th>Max Alvis</th>\n",
       "      <td>18.93 (4.30)</td>\n",
       "      <td>12.45 (4.46)</td>\n",
       "      <td>15.45 (4.99)</td>\n",
       "      <td>15.82 (4.15)</td>\n",
       "    </tr>\n",
       "  </tbody>\n",
       "</table>\n",
       "</div>"
      ],
      "text/plain": [
       "                    Fully pooled      Not pooled  \\\n",
       "Roberto Clemente    97.67 (9.22)  147.87 (25.42)   \n",
       "Frank Robinson    113.89 (10.23)  162.38 (30.45)   \n",
       "Frank Howard      139.07 (12.45)  190.21 (33.54)   \n",
       "Jay Johnstone       73.44 (8.05)   91.86 (20.03)   \n",
       "Ken Berry         111.93 (10.52)  127.11 (27.59)   \n",
       "Jim Spencer       124.11 (11.28)  143.88 (29.33)   \n",
       "Don Kessinger     157.96 (12.20)  170.71 (42.68)   \n",
       "Luis Alvarado       36.89 (5.58)   38.31 (11.40)   \n",
       "Ron Santo         135.77 (11.51)  128.29 (34.00)   \n",
       "Ron Swaboda         53.14 (6.99)   52.49 (16.30)   \n",
       "Rico Petrocelli   143.34 (12.21)  128.84 (34.25)   \n",
       "Ellie Rodriguez     49.62 (6.37)   44.38 (12.91)   \n",
       "George Scott      115.99 (10.74)  101.72 (27.19)   \n",
       "Del Unser           74.11 (8.40)   63.85 (20.81)   \n",
       "Billy Williams    156.51 (12.88)  138.18 (31.56)   \n",
       "Bert Campaneris   149.57 (12.93)  123.61 (38.11)   \n",
       "Thurman Munson     109.19 (9.95)   80.89 (26.36)   \n",
       "Max Alvis           18.93 (4.30)    12.45 (4.46)   \n",
       "\n",
       "                 Partially pooled (beta-binomial) Partially pooled (logit)  \n",
       "Roberto Clemente                   116.56 (21.40)           112.56 (18.78)  \n",
       "Frank Robinson                     134.56 (24.65)           129.33 (19.90)  \n",
       "Frank Howard                       156.81 (27.23)           155.30 (25.53)  \n",
       "Jay Johnstone                       80.07 (15.71)            79.96 (13.38)  \n",
       "Ken Berry                          120.36 (22.80)           116.29 (18.19)  \n",
       "Jim Spencer                        138.43 (26.55)           130.99 (21.80)  \n",
       "Don Kessinger                      161.10 (27.43)           157.14 (25.11)  \n",
       "Luis Alvarado                        35.79 (8.57)             37.70 (7.21)  \n",
       "Ron Santo                          132.90 (24.78)           132.60 (22.46)  \n",
       "Ron Swaboda                         52.14 (10.38)             52.33 (9.52)  \n",
       "Rico Petrocelli                    134.27 (18.71)           134.24 (20.10)  \n",
       "Ellie Rodriguez                      45.69 (8.22)             47.63 (9.32)  \n",
       "George Scott                       106.25 (19.25)           110.73 (18.40)  \n",
       "Del Unser                           67.97 (13.83)            70.34 (13.35)  \n",
       "Billy Williams                     147.75 (33.23)           152.24 (24.20)  \n",
       "Bert Campaneris                    127.24 (23.65)           137.95 (23.32)  \n",
       "Thurman Munson                      94.61 (15.92)            98.39 (17.36)  \n",
       "Max Alvis                            15.45 (4.99)             15.82 (4.15)  "
      ]
     },
     "execution_count": 12,
     "metadata": {},
     "output_type": "execute_result"
    }
   ],
   "source": [
    "def format_predictions(posterior, model):\n",
    "    posterior_predictive = TracePredictive(model,\n",
    "                                           posterior,\n",
    "                                           num_samples=num_samples)\n",
    "    preds = sample_posterior_predictive(posterior_predictive, baseball_dataset)[1]\n",
    "    return preds[\"mean\"].map(\"{:,.2f} \".format) + preds[\"std\"].map(\"({:,.2f})\".format)\n",
    "predictions = pd.DataFrame(index=player_names)\n",
    "predictions[\"Fully pooled\"] = pd.DataFrame(format_predictions(posterior_fully_pooled, fully_pooled))\n",
    "predictions[\"Not pooled\"] = pd.DataFrame(format_predictions(posterior_not_pooled, not_pooled))\n",
    "predictions[\"Partially pooled (beta-binomial)\"] = pd.DataFrame(format_predictions(posterior_partially_pooled, partially_pooled))\n",
    "predictions[\"Partially pooled (logit)\"] = pd.DataFrame(format_predictions(posterior_partially_pooled_with_logit, partially_pooled_with_logit))\n",
    "predictions"
   ]
  },
  {
   "cell_type": "markdown",
   "metadata": {},
   "source": [
    "The plot below shows how the posterior means are distributed for each method. The partially pooled means are shrunk toward the center of the population distribution, but not shrunk to a single point as in the fully pooled model. In contrast, the not pooled means are very close to the training data means (shown as a blue line)."
   ]
  },
  {
   "cell_type": "code",
   "execution_count": 13,
   "metadata": {},
   "outputs": [
    {
     "data": {
      "image/png": "[encoded data removed]",
      "text/plain": [
       "<Figure size 553.375x360 with 1 Axes>"
      ]
     },
     "metadata": {
      "needs_background": "light"
     },
     "output_type": "display_data"
    }
   ],
   "source": [
    "def data_frame_for_plot(summary_data, model):\n",
    "    df = pd.DataFrame({\"Model\": model,\n",
    "                       \"mean\": summary_data[\"mean\"].values,\n",
    "                       \"p25\": summary_data[\"25%\"].values,\n",
    "                       \"p75\": summary_data[\"75%\"].values\n",
    "                       })\n",
    "    return (df)\n",
    "\n",
    "\n",
    "plot_df = pd.concat([pd.concat([data_frame_for_plot(summary_fully, \"Fully pooled\")] * len(player_names),\n",
    "                          ignore_index=True), # Need to expand single value\n",
    "                data_frame_for_plot(summary_not, \"Not pooled\"),\n",
    "                data_frame_for_plot(summary_partially_with_logit, \"Partially pooled (beta-binomial)\"),\n",
    "                data_frame_for_plot(summary_partially, \"Partially pooled (logit)\")])\n",
    "plot_df[\"actual\"] = np.tile(baseball_dataset[\"RemainingAverage\"], 4)\n",
    "plot_df[\"training\"] = baseball_dataset[\"BattingAverage\"]\n",
    "ax = sns.relplot(x=\"training\", y=\"mean\", hue=\"Model\", data=plot_df)\n",
    "ax.set(xlabel=\"Training batting average\", ylabel=\"Posterior mean\")\n",
    "points = np.linspace(plt.xlim()[0], plt.xlim()[1], 50)\n",
    "plt.plot(points, points)\n",
    "plt.show()\n"
   ]
  },
  {
   "cell_type": "markdown",
   "metadata": {},
   "source": [
    "We can also look at the 50% credible intervals for the remainder of the season, shown as lines, and the actual performance, shown as dots."
   ]
  },
  {
   "cell_type": "code",
   "execution_count": 14,
   "metadata": {},
   "outputs": [
    {
     "data": {
      "image/png": "[encoded data removed]",
      "text/plain": [
       "<Figure size 864x216 with 4 Axes>"
      ]
     },
     "metadata": {
      "needs_background": "light"
     },
     "output_type": "display_data"
    }
   ],
   "source": [
    "def plot_interval_actual(data, color):\n",
    "    intervals = [z for (x, a, b) in zip(range(len(data)), data[\"p25\"], data[\"p75\"]) for z in [(x, x), (a, b)]]\n",
    "    plt.plot(*intervals, color=\"black\")\n",
    "    plt.plot(range(len(data)), data[\"actual\"], '.', markersize=10.0, color=\"black\")\n",
    "g = sns.FacetGrid(data=plot_df, col=\"Model\")\n",
    "g.map_dataframe(plot_interval_actual)\n",
    "g.set(xticks=range(0, len(player_names), 2))\n",
    "g.set(xlabel=\"Player ID\", ylabel=\"Predicted batting average\")\n",
    "plt.show()"
   ]
  },
  {
   "cell_type": "markdown",
   "metadata": {},
   "source": [
    "In addition to making predictions about individual player performance, hierarchical models allow us to make inferences about the population of players. For example, the `loc` variable in the logit model provides a population distribution of batting averages. We could use this to make predictions about a new, unobserved player."
   ]
  },
  {
   "cell_type": "code",
   "execution_count": 15,
   "metadata": {},
   "outputs": [
    {
     "data": {
      "image/png": "[encoded data removed]",
      "text/plain": [
       "<Figure size 432x288 with 1 Axes>"
      ]
     },
     "metadata": {
      "needs_background": "light"
     },
     "output_type": "display_data"
    }
   ],
   "source": [
    "empirical_marginal = EmpiricalMarginal(posterior_partially_pooled_with_logit, \"loc\").get_samples_and_weights()[0]\n",
    "sns.distplot(torch.sigmoid(empirical_marginal))\n",
    "plt.xlabel(\"loc\")\n",
    "plt.show()"
   ]
  },
  {
   "cell_type": "markdown",
   "metadata": {},
   "source": [
    "One advantage of MCMC over variational inference is that the estimated posterior can capture more complex joint variation of latent variables than a simple guide approximation. For example, in the plot below we can see that in the beta-binomial model, the posterior variance of $\\kappa$ is closely related to the magnitude of $m$. A mean field guide would model these variables as independent."
   ]
  },
  {
   "cell_type": "code",
   "execution_count": 16,
   "metadata": {},
   "outputs": [
    {
     "data": {
      "image/png": "[encoded data removed]",
      "text/plain": [
       "<Figure size 432x288 with 1 Axes>"
      ]
     },
     "metadata": {
      "needs_background": "light"
     },
     "output_type": "display_data"
    }
   ],
   "source": [
    "empirical_marginal = EmpiricalMarginal(posterior_partially_pooled, [\"m\", \"kappa\"]).get_samples_and_weights()[0].numpy()\n",
    "sns.scatterplot(x=empirical_marginal[:,0], y=empirical_marginal[:,1])\n",
    "plt.xlabel(\"m\")\n",
    "plt.ylabel(\"kappa\")\n",
    "plt.show()"
   ]
  },
  {
   "cell_type": "markdown",
   "metadata": {},
   "source": [
    "This code is available on [Github](https://github.com/uber/pyro/blob/dev/examples/baseball.py)."
   ]
  },
  {
   "cell_type": "markdown",
   "metadata": {},
   "source": [
    "## References\n",
    "[1] Bob Carpenter, [Hierarchical Partial Pooling for Repeated Binary Trials](http://mc-stan.org/users/documentation/case-studies/pool-binary-trials.html)\n",
    "\n",
    "[2] Radford M. Neal, [MCMC using Hamiltonian dynamics](https://arxiv.org/pdf/1206.1901.pdf)\n",
    "\n",
    "[3] Matthew D. Hoffman and Andrew Gelman [The No-U-Turn Sampler: Adaptively Setting Path Lengths in Hamiltonian \n",
    "Monte Carlo](http://jmlr.org/papers/volume15/hoffman14a/hoffman14a.pdf)\n",
    "\n",
    "[4] https://chi-feng.github.io/mcmc-demo/app.html\n",
    "\n",
    "[5] Bradley Efron and Carl Morris (1975), \"Data analysis using Stein's estimator and its\n",
    "    generalizations\", J. Amer. Statist. Assoc., 70, 311-319.\n"
   ]
  }
 ],
 "metadata": {
  "kernelspec": {
   "display_name": "Python 3",
   "language": "python",
   "name": "python3"
  },
  "language_info": {
   "codemirror_mode": {
    "name": "ipython",
    "version": 3
   },
   "file_extension": ".py",
   "mimetype": "text/x-python",
   "name": "python",
   "nbconvert_exporter": "python",
   "pygments_lexer": "ipython3",
   "version": "3.6.2"
  }
 },
 "nbformat": 4,
 "nbformat_minor": 2
}
